{
 "cells": [
  {
   "cell_type": "markdown",
   "metadata": {},
   "source": [
    "# snntorch - Tutorial 2"
   ]
  },
  {
   "cell_type": "markdown",
   "metadata": {},
   "source": [
    "## Imports"
   ]
  },
  {
   "cell_type": "code",
   "execution_count": 1,
   "metadata": {},
   "outputs": [],
   "source": [
    "# Spiking Neural Network\n",
    "import snntorch as snn\n",
    "from snntorch import utils\n",
    "from snntorch import spikegen\n",
    "\n",
    "# Torch\n",
    "import torch\n",
    "from torch.utils.data import DataLoader\n",
    "\n",
    "# Torchvision\n",
    "from torchvision import datasets, transforms\n",
    "\n",
    "# Visualization\n",
    "import matplotlib.pyplot as plt\n",
    "import snntorch.spikeplot as splt\n",
    "from IPython.display import HTML"
   ]
  },
  {
   "cell_type": "markdown",
   "metadata": {},
   "source": [
    "- *Hodgkin-Huxley Neuron Models*: Biophysically accurate but complex.\n",
    "- *Artificial Neuron Model*: Inputs are mulitplied by their corresponding weights and passed through an activation function. Standard for traditional deep learning.\n",
    "- *Leaky Integrate-and-Fire Neuron Models*: Somewhere in the middle. Takes the sum of weighted inputs, but instead of passing it through an activation function, it will integrate the input over time with a leakage. If the integrated value exceeds a threshold then the neuron will fire."
   ]
  },
  {
   "cell_type": "code",
   "execution_count": null,
   "metadata": {},
   "outputs": [],
   "source": [
    "def leaky_integrate_neuron(U, time_step=1e-3, I=0, R=5e7, C=1e-10):\n",
    "    tau = R*C\n",
    "    U = U + (time_step/tau)*(-U + I*R)\n",
    "    return U\n",
    "\n",
    "num_steps = 100\n",
    "U = 0.9\n",
    "U_trace = []  # keeps a record of U for plotting\n",
    "\n",
    "for step in range(num_steps):\n",
    "    U_trace.append(U)\n",
    "    U = leaky_integrate_neuron(U)  # solve next step of U\n",
    "\n",
    "fig, ax = plt.subplots()\n",
    "ax.plot(U_trace)\n",
    "ax.set_title('Leaky Integrate-and-Fire Neuron')"
   ]
  },
  {
   "cell_type": "markdown",
   "metadata": {},
   "source": [
    "## Lapicque's LIF Neuron Model\n",
    "\n",
    "We store the neuron in `lif1`.\n",
    "\n",
    "Modelled as an RC circuit."
   ]
  },
  {
   "cell_type": "code",
   "execution_count": null,
   "metadata": {},
   "outputs": [],
   "source": [
    "time_step = 1e-3\n",
    "R = 5\n",
    "C = 1e-3\n",
    "\n",
    "# leaky integrate and fire neuron, tau=5e-3\n",
    "lif1 = snn.Lapicque(R=R, C=C, time_step=time_step)\n",
    "\n",
    "# Initialize membrane, input, and output\n",
    "mem = torch.ones(1) * 0.9  # U=0.9 at t=0\n",
    "cur_in = torch.zeros(num_steps, 1)  # I=0 for all t\n",
    "spk_out = torch.zeros(1)  # initialize output spikes\n",
    "\n",
    "# A list to store a recording of membrane potential\n",
    "mem_rec = [mem]\n",
    "\n",
    "# pass updated value of mem and cur_in[step]=0 at every time step\n",
    "for step in range(num_steps):\n",
    "    spk_out, mem = lif1(cur_in[step], mem)\n",
    "\n",
    "    # Store recordings of membrane potential\n",
    "    mem_rec.append(mem)\n",
    "\n",
    "# convert the list of tensors into one tensor\n",
    "mem_rec = torch.stack(mem_rec)\n",
    "\n",
    "fig, ax = plt.subplots()\n",
    "ax.plot(mem_rec)\n",
    "ax.set_title(\"Lapicque's Neuron Model Without Stimulus\")"
   ]
  },
  {
   "cell_type": "code",
   "execution_count": null,
   "metadata": {},
   "outputs": [],
   "source": [
    "num_steps = 100\n",
    "time_step = 1e-3\n",
    "R = 5\n",
    "C = 1e-3\n",
    "\n",
    "# leaky integrate and fire neuron, tau=5e-3\n",
    "lif1 = snn.Lapicque(R=R, C=C, time_step=time_step)\n",
    "\n",
    "# Initialize membrane, input, and output\n",
    "mem = torch.zeros(1)\n",
    "cur_in = torch.cat((torch.zeros(10, 1), torch.ones(190, 1)*0.1), 0)  # I=0 for all t\n",
    "spk_out = torch.zeros(1)  # initialize output spikes\n",
    "\n",
    "# A list to store a recording of membrane potential\n",
    "mem_rec = [mem]\n",
    "\n",
    "# pass updated value of mem and cur_in[step]=0 at every time step\n",
    "for step in range(num_steps):\n",
    "    spk_out, mem = lif1(cur_in[step], mem)\n",
    "\n",
    "    # Store recordings of membrane potential\n",
    "    mem_rec.append(mem)\n",
    "\n",
    "# convert the list of tensors into one tensor\n",
    "mem_rec = torch.stack(mem_rec)\n",
    "\n",
    "fig, axs = plt.subplots(2, 1)\n",
    "axs[0].plot(mem_rec)\n",
    "axs[1].plot(cur_in)\n",
    "axs[0].set_title(\"Lapicque's Neuron Model with Stimulus\")\n",
    "axs[0].set_xlim(0, num_steps)\n",
    "axs[1].set_xlim(0, num_steps)"
   ]
  },
  {
   "cell_type": "markdown",
   "metadata": {},
   "source": [
    "## Lapicque: Firing"
   ]
  },
  {
   "cell_type": "code",
   "execution_count": null,
   "metadata": {},
   "outputs": [],
   "source": [
    "def leaky_integrate_and_fire(mem, cur=0, threshold=1, time_step=1e-3, R=5.1, C=5e-3):\n",
    "    tau_mem = R*C\n",
    "    spk = (mem > threshold)\n",
    "    mem = mem + (time_step/tau_mem)*(-mem + cur*R) - spk*threshold  # every time spk=1, subtract the threhsold\n",
    "    return mem, spk\n",
    "\n",
    "num_steps = 200\n",
    "\n",
    "# Small step current input\n",
    "cur_in = torch.cat((torch.zeros(10), torch.ones(190)*0.2), 0)\n",
    "mem = torch.zeros(1)\n",
    "mem_rec = []\n",
    "spk_rec = []\n",
    "\n",
    "# neuron simulation\n",
    "for step in range(num_steps):\n",
    "    mem, spk = leaky_integrate_and_fire(mem, cur_in[step])\n",
    "    mem_rec.append(mem)\n",
    "    spk_rec.append(spk)\n",
    "\n",
    "# convert lists to tensors\n",
    "mem_rec = torch.stack(mem_rec)\n",
    "spk_rec = torch.stack(spk_rec)\n",
    "\n",
    "fig, axs = plt.subplots(3, 1)\n",
    "axs[0].plot(cur_in)\n",
    "axs[1].plot(mem_rec)\n",
    "axs[2].plot(spk_rec)"
   ]
  }
 ],
 "metadata": {
  "kernelspec": {
   "display_name": ".venv",
   "language": "python",
   "name": "python3"
  },
  "language_info": {
   "codemirror_mode": {
    "name": "ipython",
    "version": 3
   },
   "file_extension": ".py",
   "mimetype": "text/x-python",
   "name": "python",
   "nbconvert_exporter": "python",
   "pygments_lexer": "ipython3",
   "version": "3.12.5"
  }
 },
 "nbformat": 4,
 "nbformat_minor": 2
}
