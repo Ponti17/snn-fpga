{
 "cells": [
  {
   "cell_type": "markdown",
   "metadata": {},
   "source": [
    "# snntorch - Tutorial 3\n",
    "\n",
    "A feedforward spiking neural network."
   ]
  },
  {
   "cell_type": "markdown",
   "metadata": {},
   "source": [
    "## Imports"
   ]
  },
  {
   "cell_type": "code",
   "execution_count": 10,
   "metadata": {},
   "outputs": [],
   "source": [
    "# Spiking Neural Network\n",
    "import snntorch as snn\n",
    "from snntorch import utils\n",
    "from snntorch import spikegen\n",
    "\n",
    "# Torch\n",
    "import torch\n",
    "import torch.nn as nn\n",
    "from torch.utils.data import DataLoader\n",
    "\n",
    "# Torchvision\n",
    "from torchvision import datasets, transforms\n",
    "\n",
    "# Visualization\n",
    "import matplotlib.pyplot as plt\n",
    "import snntorch.spikeplot as splt\n",
    "from IPython.display import HTML"
   ]
  },
  {
   "cell_type": "markdown",
   "metadata": {},
   "source": [
    "## Leaky Integrate-and-Fire Model\n",
    "\n",
    "Manual implementation."
   ]
  },
  {
   "cell_type": "code",
   "execution_count": null,
   "metadata": {},
   "outputs": [],
   "source": [
    "def leaky_integrate_and_fire(mem, x, w, beta, threshold=1):\n",
    "    spk = (mem > threshold) # if membrane exceeds threshold, spk=1, else, 0\n",
    "    mem = beta * mem + w*x - spk*threshold\n",
    "    return spk, mem\n",
    "\n",
    "delta_t = torch.tensor(1e-3)\n",
    "tau = torch.tensor(5e-3)\n",
    "beta = torch.exp(-delta_t/tau)\n",
    "print(f\"The decay rate is: {beta:.3f}\")\n",
    "\n",
    "num_steps = 200\n",
    "\n",
    "# initialize inputs/outputs + small step current input\n",
    "x = torch.cat((torch.zeros(10), torch.ones(190)*0.5), 0)\n",
    "mem = torch.zeros(1)\n",
    "spk_out = torch.zeros(1)\n",
    "mem_rec = []\n",
    "spk_rec = []\n",
    "\n",
    "# neuron parameters\n",
    "w = 0.4\n",
    "beta = 0.819\n",
    "\n",
    "# neuron simulation\n",
    "for step in range(num_steps):\n",
    "  spk, mem = leaky_integrate_and_fire(mem, x[step], w=w, beta=beta)\n",
    "  mem_rec.append(mem)\n",
    "  spk_rec.append(spk)\n",
    "\n",
    "# convert lists to tensors\n",
    "mem_rec = torch.stack(mem_rec)\n",
    "spk_rec = torch.stack(spk_rec)\n",
    "\n",
    "fig, axs = plt.subplots(3, 1)\n",
    "axs[0].plot(x*w)\n",
    "axs[1].plot(mem_rec)\n",
    "axs[2].plot(spk_rec)"
   ]
  },
  {
   "cell_type": "markdown",
   "metadata": {},
   "source": [
    "## Leaky Integrate-and-Fire Model\n",
    "\n",
    "snntorch implementation."
   ]
  },
  {
   "cell_type": "code",
   "execution_count": null,
   "metadata": {},
   "outputs": [],
   "source": [
    "lif1 = snn.Leaky(beta=0.8)\n",
    "\n",
    "# Small step current input\n",
    "w=0.21\n",
    "cur_in = torch.cat((torch.zeros(10), torch.ones(190)*w), 0)\n",
    "mem = torch.zeros(1)\n",
    "spk = torch.zeros(1)\n",
    "mem_rec = []\n",
    "spk_rec = []\n",
    "\n",
    "# neuron simulation\n",
    "for step in range(num_steps):\n",
    "    spk, mem = lif1(cur_in[step], mem)\n",
    "    mem_rec.append(mem)\n",
    "    spk_rec.append(spk)\n",
    "\n",
    "# convert lists to tensors\n",
    "mem_rec = torch.stack(mem_rec)\n",
    "spk_rec = torch.stack(spk_rec)\n",
    "\n",
    "fig, axs = plt.subplots(3, 1)\n",
    "axs[0].plot(cur_in)\n",
    "axs[1].plot(mem_rec)\n",
    "axs[2].plot(spk_rec)"
   ]
  },
  {
   "cell_type": "markdown",
   "metadata": {},
   "source": [
    "## A Feedforward Spiking Neural Network"
   ]
  },
  {
   "cell_type": "code",
   "execution_count": 12,
   "metadata": {},
   "outputs": [],
   "source": [
    "# layer parameters\n",
    "num_inputs = 784\n",
    "num_hidden = 1000\n",
    "num_outputs = 10\n",
    "beta = 0.99\n",
    "\n",
    "# initialize layers\n",
    "fc1 = nn.Linear(num_inputs, num_hidden)\n",
    "lif1 = snn.Leaky(beta=beta)\n",
    "fc2 = nn.Linear(num_hidden, num_outputs)\n",
    "lif2 = snn.Leaky(beta=beta)\n",
    "\n",
    "# Initialize hidden states\n",
    "mem1 = lif1.init_leaky()\n",
    "mem2 = lif2.init_leaky()\n",
    "\n",
    "# record outputs\n",
    "mem2_rec = []\n",
    "spk1_rec = []\n",
    "spk2_rec = []\n",
    "\n",
    "spk_in = spikegen.rate_conv(torch.rand((200, 784))).unsqueeze(1)\n",
    "\n",
    "# network simulation\n",
    "for step in range(num_steps):\n",
    "    cur1 = fc1(spk_in[step]) # post-synaptic current <-- spk_in x weight\n",
    "    spk1, mem1 = lif1(cur1, mem1) # mem[t+1] <--post-syn current + decayed membrane\n",
    "    cur2 = fc2(spk1)\n",
    "    spk2, mem2 = lif2(cur2, mem2)\n",
    "\n",
    "    mem2_rec.append(mem2)\n",
    "    spk1_rec.append(spk1)\n",
    "    spk2_rec.append(spk2)\n",
    "\n",
    "# convert lists to tensors\n",
    "mem2_rec = torch.stack(mem2_rec)\n",
    "spk1_rec = torch.stack(spk1_rec)\n",
    "spk2_rec = torch.stack(spk2_rec)"
   ]
  },
  {
   "cell_type": "code",
   "execution_count": null,
   "metadata": {},
   "outputs": [],
   "source": [
    "spk_in_plot = spk_in.reshape((num_steps, -1))\n",
    "spk1_rec_plot = spk1_rec.reshape((num_steps, -1))\n",
    "spk2_rec_plot = spk2_rec.reshape((num_steps, -1))\n",
    "\n",
    "fig, axs = plt.subplots(3, 1, figsize=(10, 10), facecolor='w', sharex=True)\n",
    "splt.raster(spk_in_plot, axs[0], s=1.5, c=\"black\")\n",
    "splt.raster(spk1_rec_plot, axs[1], s=1.5, c=\"black\")\n",
    "splt.raster(spk2_rec_plot, axs[2], s=1.5, c=\"black\")\n",
    "\n",
    "axs[0].set_title(\"Input Layer\")\n",
    "plt.xlabel(\"Time step\")\n",
    "plt.ylabel(\"Neuron Number\")\n",
    "plt.show()"
   ]
  },
  {
   "cell_type": "code",
   "execution_count": null,
   "metadata": {},
   "outputs": [],
   "source": [
    "fig, ax = plt.subplots()\n",
    "labels = ['0', '1', '2', '3', '4', '5', '6', '7', '8','9']\n",
    "spk2_rec_anim = spk2_rec.squeeze(1).detach().cpu()\n",
    "\n",
    "anim = splt.spike_count(spk2_rec_anim, fig, ax, labels=labels, animate=True)\n",
    "video = HTML(anim.to_html5_video())\n",
    "plt.close()\n",
    "video"
   ]
  },
  {
   "cell_type": "code",
   "execution_count": null,
   "metadata": {},
   "outputs": [],
   "source": [
    "# plot membrane potential traces\n",
    "splt.traces(mem2_rec.squeeze(1), spk=spk2_rec.squeeze(1))\n",
    "fig = plt.gcf()\n",
    "fig.set_size_inches(8, 6)"
   ]
  }
 ],
 "metadata": {
  "kernelspec": {
   "display_name": ".venv",
   "language": "python",
   "name": "python3"
  },
  "language_info": {
   "codemirror_mode": {
    "name": "ipython",
    "version": 3
   },
   "file_extension": ".py",
   "mimetype": "text/x-python",
   "name": "python",
   "nbconvert_exporter": "python",
   "pygments_lexer": "ipython3",
   "version": "3.12.5"
  }
 },
 "nbformat": 4,
 "nbformat_minor": 2
}
