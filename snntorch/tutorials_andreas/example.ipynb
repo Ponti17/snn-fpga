{
 "cells": [
  {
   "cell_type": "markdown",
   "metadata": {},
   "source": [
    "# snntorch\n",
    "\n",
    "Quick example for confirming snntorch works."
   ]
  },
  {
   "cell_type": "code",
   "execution_count": 1,
   "metadata": {},
   "outputs": [],
   "source": [
    "import torch, torch.nn as nn\n",
    "import snntorch as snn\n",
    "from snntorch import surrogate\n",
    "from snntorch import utils\n",
    "\n",
    "num_steps = 25 # number of time steps\n",
    "batch_size = 1\n",
    "beta = 0.5  # neuron decay rate\n",
    "spike_grad = surrogate.fast_sigmoid() # surrogate gradient\n",
    "\n",
    "net = nn.Sequential(\n",
    "      nn.Conv2d(1, 8, 5),\n",
    "      nn.MaxPool2d(2),\n",
    "      snn.Leaky(beta=beta, init_hidden=True, spike_grad=spike_grad),\n",
    "      nn.Conv2d(8, 16, 5),\n",
    "      nn.MaxPool2d(2),\n",
    "      snn.Leaky(beta=beta, init_hidden=True, spike_grad=spike_grad),\n",
    "      nn.Flatten(),\n",
    "      nn.Linear(16 * 4 * 4, 10),\n",
    "      snn.Leaky(beta=beta, init_hidden=True, spike_grad=spike_grad, output=True)\n",
    "      )\n",
    "\n",
    "data_in = torch.rand(num_steps, batch_size, 1, 28, 28) # random input data\n",
    "spike_recording = [] # record spikes over time\n",
    "utils.reset(net) # reset/initialize hidden states for all neurons\n",
    "\n",
    "for step in range(num_steps): # loop over time\n",
    "    spike, state = net(data_in[step]) # one time step of forward-pass\n",
    "    spike_recording.append(spike) # record spikes in list"
   ]
  }
 ],
 "metadata": {
  "kernelspec": {
   "display_name": "Python 3",
   "language": "python",
   "name": "python3"
  },
  "language_info": {
   "codemirror_mode": {
    "name": "ipython",
    "version": 3
   },
   "file_extension": ".py",
   "mimetype": "text/x-python",
   "name": "python",
   "nbconvert_exporter": "python",
   "pygments_lexer": "ipython3",
   "version": "3.12.5"
  }
 },
 "nbformat": 4,
 "nbformat_minor": 2
}
