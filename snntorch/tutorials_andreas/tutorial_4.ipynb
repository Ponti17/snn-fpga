{
 "cells": [
  {
   "cell_type": "markdown",
   "metadata": {},
   "source": [
    "# snntorch - Tutorial 4\n",
    "\n",
    "2nd order spiking neuron models."
   ]
  },
  {
   "cell_type": "markdown",
   "metadata": {},
   "source": [
    "## Imports"
   ]
  },
  {
   "cell_type": "code",
   "execution_count": null,
   "metadata": {},
   "outputs": [],
   "source": [
    "# Spiking Neural Network\n",
    "import snntorch as snn\n",
    "from snntorch import utils\n",
    "from snntorch import spikegen\n",
    "\n",
    "# Torch\n",
    "import torch\n",
    "import torch.nn as nn\n",
    "from torch.utils.data import DataLoader\n",
    "\n",
    "# Torchvision\n",
    "from torchvision import datasets, transforms\n",
    "\n",
    "# Visualization\n",
    "import matplotlib.pyplot as plt\n",
    "import snntorch.spikeplot as splt\n",
    "from IPython.display import HTML"
   ]
  },
  {
   "cell_type": "markdown",
   "metadata": {},
   "source": [
    "## Synaptic Neuron Model in SNNTORCH"
   ]
  },
  {
   "cell_type": "code",
   "execution_count": null,
   "metadata": {},
   "outputs": [],
   "source": [
    "# Decay rate of the synaptic current\n",
    "alpha = 0.8\n",
    "\n",
    "# Decay rate of the membrane potential\n",
    "beta = 0.3\n",
    "\n",
    "# Sim parameter\n",
    "num_steps = 200\n",
    "\n",
    "# Initialize 2nd-order LIF neuron\n",
    "lif1 = snn.Synaptic(alpha=alpha, beta=beta)\n",
    "\n",
    "# Periodic spiking input, spk_in = 0.2 V\n",
    "w = 0.2\n",
    "spk_period = torch.cat((torch.ones(1)*w, torch.zeros(9)), 0)\n",
    "spk_in = spk_period.repeat(20)\n",
    "\n",
    "# Initialize hidden states and output\n",
    "syn, mem = lif1.init_synaptic()\n",
    "spk_out = torch.zeros(1)\n",
    "syn_rec = []\n",
    "mem_rec = []\n",
    "spk_rec = []\n",
    "\n",
    "# Simulate neurons\n",
    "for step in range(num_steps):\n",
    "    spk_out, syn, mem = lif1(spk_in[step], syn, mem)\n",
    "    spk_rec.append(spk_out)\n",
    "    syn_rec.append(syn)\n",
    "    mem_rec.append(mem)\n",
    "\n",
    "# convert lists to tensors\n",
    "spk_rec = torch.stack(spk_rec)\n",
    "syn_rec = torch.stack(syn_rec)\n",
    "mem_rec = torch.stack(mem_rec)\n",
    "\n",
    "fig, ax = plt.subplots(4, 1, figsize=(10, 5), sharex=True)\n",
    "ax[0].plot(spk_in)\n",
    "ax[1].plot(syn_rec)\n",
    "ax[2].plot(mem_rec)\n",
    "ax[3].plot(spk_rec)"
   ]
  }
 ],
 "metadata": {
  "kernelspec": {
   "display_name": ".venv",
   "language": "python",
   "name": "python3"
  },
  "language_info": {
   "codemirror_mode": {
    "name": "ipython",
    "version": 3
   },
   "file_extension": ".py",
   "mimetype": "text/x-python",
   "name": "python",
   "nbconvert_exporter": "python",
   "pygments_lexer": "ipython3",
   "version": "3.12.5"
  }
 },
 "nbformat": 4,
 "nbformat_minor": 2
}
