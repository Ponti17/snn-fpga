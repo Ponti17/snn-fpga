{
 "cells": [
  {
   "cell_type": "markdown",
   "metadata": {},
   "source": [
    "# Test of SNN for Gesture Detection"
   ]
  },
  {
   "cell_type": "markdown",
   "metadata": {},
   "source": [
    "## Imports"
   ]
  },
  {
   "cell_type": "code",
   "execution_count": null,
   "metadata": {},
   "outputs": [],
   "source": [
    "# SNN\n",
    "import tonic\n",
    "\n",
    "# Visualization\n",
    "import matplotlib.pyplot as plt\n",
    "from IPython.display import HTML\n",
    "\n",
    "# Misc\n",
    "import numpy as np\n",
    "import numpy.lib.recfunctions as rf"
   ]
  },
  {
   "cell_type": "code",
   "execution_count": null,
   "metadata": {},
   "outputs": [],
   "source": [
    "import os\n",
    "\n",
    "# Generate a path to save the datasets\n",
    "data_path = os.path.join(os.getcwd(), \"data\")\n",
    "os.makedirs(data_path, exist_ok=True)\n",
    "train = tonic.datasets.DVSGesture(save_to=data_path, train=True)\n",
    "test = tonic.datasets.DVSGesture(save_to=data_path, train=False)"
   ]
  },
  {
   "cell_type": "code",
   "execution_count": null,
   "metadata": {},
   "outputs": [],
   "source": [
    "file_name = './data/DVSGesture/ibmGestureTest/user26_led/9.npy'\n",
    "\n",
    "# each file contains a list of events (x-pos, y-pos, polarity, timestamp).\n",
    "arr = np.load(file_name)\n",
    "arr[:, 3] *= 1000  # convert from ms to us\n",
    "dtype = np.dtype([(\"x\", np.int16), (\"y\", np.int16), (\"p\", bool), (\"t\", np.int64)])\n",
    "arr = rf.unstructured_to_structured(arr, dtype)\n",
    "\n",
    "print(\"A single event:\", arr[0], \"as (x-pos, y-pos, polarity, timestamp).\")"
   ]
  },
  {
   "cell_type": "code",
   "execution_count": null,
   "metadata": {},
   "outputs": [],
   "source": [
    "def to_frames(events):\n",
    "    # creates dense frames from events by binning them in different ways\n",
    "    frame_transform = tonic.transforms.ToFrame(\n",
    "        sensor_size=tonic.datasets.DVSGesture.sensor_size, \n",
    "        #time_window=10000)\n",
    "        n_time_bins=100)\n",
    "        #event_count=1000)\n",
    "    return frame_transform(events)\n",
    "\n",
    "events, label = train[0]\n",
    "frames = to_frames(events)\n",
    "\n",
    "print(\"Train dataset contains\", len(train), \"samples.\")\n",
    "print(\"There are\", len(events), \"events in the selected sample.\")\n",
    "print(\"A single event:\", events[0], \"as (x-pos, y-pos, polarity, timestamp).\")\n",
    "print (frames.shape, label)\n",
    "\n",
    "ani = tonic.utils.plot_animation(frames) # plot one frame\n",
    "HTML(ani.to_jshtml()) # animate all frames"
   ]
  }
 ],
 "metadata": {
  "kernelspec": {
   "display_name": ".venv",
   "language": "python",
   "name": "python3"
  },
  "language_info": {
   "codemirror_mode": {
    "name": "ipython",
    "version": 3
   },
   "file_extension": ".py",
   "mimetype": "text/x-python",
   "name": "python",
   "nbconvert_exporter": "python",
   "pygments_lexer": "ipython3",
   "version": "3.12.5"
  }
 },
 "nbformat": 4,
 "nbformat_minor": 2
}
